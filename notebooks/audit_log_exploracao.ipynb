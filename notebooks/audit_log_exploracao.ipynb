{
 "cells": [
  {
   "cell_type": "code",
   "execution_count": null,
   "metadata": {},
   "outputs": [],
   "source": [
    "# notebooks/audit_log_exploracao.ipynb\n",
    "\n",
    "import pandas as pd\n",
    "import plotly.express as px\n",
    "from pyspark.sql import SparkSession\n",
    "from pyspark.sql.functions import col\n",
    "\n",
    "# Inicia uma sessão Spark para LEITURA\n",
    "builder = SparkSession.builder.appName(\"AnaliseGold\") \\\n",
    "    .config(\"spark.sql.extensions\", \"io.delta.sql.DeltaSparkSessionExtension\") \\\n",
    "    .config(\"spark.sql.catalog.spark_catalog\", \"org.apache.spark.sql.delta.catalog.DeltaCatalog\")\n",
    "spark = builder.getOrCreate()\n",
    "\n",
    "# Carrega os dados diretamente da camada Gold\n",
    "df_apps = spark.read.format(\"delta\").load(\"../data/gold/apps_prioritarios\")\n",
    "df_funil = spark.read.format(\"delta\").load(\"../data/gold/funil_governanca\")\n",
    "\n",
    "print(\"Tabela de Funil de Governança\")\n",
    "df_funil.show()\n",
    "\n",
    "print(\"\\nAmostra dos Aplicativos Prioritários\")\n",
    "df_apps.select(\"admin_displayname\", \"usuarios_unicos\", \"total_sessoes\").orderBy(col(\"usuarios_unicos\").desc()).show()\n",
    "\n",
    "# Exemplo de visualização com Plotly\n",
    "df_funil_pd = df_funil.toPandas()\n",
    "fig = px.funnel(df_funil_pd, x='Quantidade', y='Etapa do Funil', title='Funil de Governança de Aplicativos')\n",
    "fig.show()\n",
    "\n",
    "spark.stop()"
   ]
  }
 ],
 "metadata": {
  "kernelspec": {
   "display_name": ".venv",
   "language": "python",
   "name": "python3"
  },
  "language_info": {
   "name": "python",
   "version": "3.13.5"
  }
 },
 "nbformat": 4,
 "nbformat_minor": 2
}
